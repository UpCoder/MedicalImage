{
 "cells": [
  {
   "cell_type": "code",
   "execution_count": 4,
   "metadata": {
    "collapsed": true
   },
   "outputs": [],
   "source": [
    "run medicalImage.ipynb"
   ]
  },
  {
   "cell_type": "code",
   "execution_count": 5,
   "metadata": {
    "collapsed": true
   },
   "outputs": [],
   "source": [
    "import os\n",
    "roi_dir_path = '/home/give/Documents/dataset/MedicalImage/MedicalImage/ROI_Whole'"
   ]
  },
  {
   "cell_type": "code",
   "execution_count": null,
   "metadata": {
    "collapsed": true
   },
   "outputs": [],
   "source": [
    "def convertMHD2PNG(dir_name, size=256):\n",
    "    '''\n",
    "        将ｍｈｄ文件转化为ｐｎｇ文件\n",
    "    '''\n",
    "    roi_images = np.zeros((256, 256, 3), np.uint8)\n",
    "    for phasename in ['NC', 'ART', 'PV']:\n",
    "        roi_path = os.path.join(dir_name, phasename + '_ROI.mhd')\n",
    "        roi_expand_path = os.path.join(dir_name, phasename + '_ROI_Expand.mhd')\n",
    "        roi_image = read_mhd_image(roi_path)\n",
    "        roi_expand_image = read_mhd_image(roi_expand_path)\n",
    "        roi_shape = list(np.shape(roi_image))\n",
    "        roi_expand_shape = list(np.shape(roi_expand_image))\n",
    "        "
   ]
  }
 ],
 "metadata": {
  "kernelspec": {
   "display_name": "Python 2",
   "language": "python",
   "name": "python2"
  },
  "language_info": {
   "codemirror_mode": {
    "name": "ipython",
    "version": 2
   },
   "file_extension": ".py",
   "mimetype": "text/x-python",
   "name": "python",
   "nbconvert_exporter": "python",
   "pygments_lexer": "ipython2",
   "version": "2.7.12"
  }
 },
 "nbformat": 4,
 "nbformat_minor": 2
}
