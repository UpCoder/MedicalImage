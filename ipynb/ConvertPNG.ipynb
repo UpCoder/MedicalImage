{
 "cells": [
  {
   "cell_type": "code",
   "execution_count": 6,
   "metadata": {
    "collapsed": true
   },
   "outputs": [],
   "source": [
    "run medicalImage.ipynb"
   ]
  },
  {
   "cell_type": "code",
   "execution_count": 7,
   "metadata": {
    "collapsed": true
   },
   "outputs": [],
   "source": [
    "import os\n",
    "roi_dir_path = '/home/give/Documents/dataset/MedicalImage/MedicalImage/ROI_Whole'"
   ]
  },
  {
   "cell_type": "code",
   "execution_count": 8,
   "metadata": {
    "collapsed": true
   },
   "outputs": [],
   "source": [
    "def convertMHD2PNG(dir_name, roi_size=64, expand_size=128):\n",
    "    '''\n",
    "        将ｍｈｄ文件转化为ｐｎｇ文件\n",
    "    '''\n",
    "    roi_images = np.zeros((roi_size, roi_size, 3), np.uint8)\n",
    "    roi_expand_images = np.zeros((expand_size, expand_size, 3), np.uint8)\n",
    "    for index, phasename in enumerate(['NC', 'ART', 'PV']):\n",
    "        roi_path = os.path.join(dir_name, phasename + '_ROI.mhd')\n",
    "        roi_expand_path = os.path.join(dir_name, phasename + '_ROI_Expand.mhd')\n",
    "        roi_image = read_mhd_image(roi_path)\n",
    "        roi_expand_image = read_mhd_image(roi_expand_path)\n",
    "        roi_shape = list(np.shape(roi_image))\n",
    "        roi_expand_shape = list(np.shape(roi_expand_image))\n",
    "        roi_image = adjust_ww_wc(roi_image)\n",
    "        roi_expand_image = adjust_ww_wc(roi_expand_image)\n",
    "        \n",
    "        # 进行图像的放缩\n",
    "        max_roi = np.max(roi_shape)\n",
    "        max_roi_expand = np.max(roi_expand_shape)\n",
    "        roi_image = resize_image(roi_image, max_roi)\n",
    "        roi_expand_image = resize_image(roi_expand_image, max_roi_expand)\n",
    "        roi_image = resize_image(roi_image, roi_size)\n",
    "        roi_expand_image = resize_image(roi_expand_image, expand_size)\n",
    "        roi_images[:, :, index] = roi_image\n",
    "        roi_expand_images[:, :, index] = roi_expand_image\n",
    "        save_image(roi_image, os.path.join(dir_name, phasename+'_ROI.png'))\n",
    "        save_image(roi_expand_image, os.path.join(dir_name, phasename+'_ROI_Expand.png'))\n",
    "        \n",
    "    return roi_images, roi_expand_images"
   ]
  },
  {
   "cell_type": "code",
   "execution_count": 9,
   "metadata": {
    "collapsed": true
   },
   "outputs": [],
   "source": [
    "def convert_all_dir(dir_name, roi_size=64, expand_size=128):\n",
    "    states = ['train', 'val']\n",
    "    for state in states:\n",
    "        cur_dir = os.path.join(dir_name, state)\n",
    "        names = os.listdir(cur_dir)\n",
    "        for name in names:\n",
    "            cur_path = os.path.join(cur_dir, name)\n",
    "            roi_images, roi_expand_images = convertMHD2PNG(\n",
    "                cur_path,\n",
    "                roi_size,\n",
    "                expand_size\n",
    "            )\n",
    "            save_roi_path = os.path.join(cur_path, 'roi.png')\n",
    "            save_roi_expand_path = os.path.join(cur_path, 'roi_expand.png')\n",
    "            save_image(roi_images, save_roi_path)\n",
    "            save_image(roi_expand_images, save_roi_expand_path)\n",
    "            "
   ]
  },
  {
   "cell_type": "code",
   "execution_count": 10,
   "metadata": {
    "collapsed": true
   },
   "outputs": [],
   "source": [
    "convert_all_dir('/home/give/Documents/dataset/MedicalImage/MedicalImage/ROI_pickup')"
   ]
  },
  {
   "cell_type": "code",
   "execution_count": 17,
   "metadata": {},
   "outputs": [
    {
     "name": "stdout",
     "output_type": "stream",
     "text": [
      "(128, 128, 3) (256, 256, 3)\n"
     ]
    }
   ],
   "source": [
    "roi_images, roi_expand_images = convertMHD2PNG(\n",
    "    '/home/give/Documents/dataset/MedicalImage/MedicalImage/ROI_Whole/train/15442_2737174_2_0_4'\n",
    ")\n",
    "show_image(roi_images[:, :, 2])\n",
    "show_image(roi_expand_images[:, :, 2])\n",
    "print np.shape(roi_images), np.shape(roi_expand_images)"
   ]
  },
  {
   "cell_type": "code",
   "execution_count": 19,
   "metadata": {
    "collapsed": true
   },
   "outputs": [],
   "source": [
    "def findSubStr(str, substr, i):\n",
    "    count = 0\n",
    "    while i > 0:\n",
    "        index = str.find(substr)\n",
    "        if index == -1:\n",
    "            return -1\n",
    "        else:\n",
    "            str = str[index + 1:]\n",
    "            i -= 1\n",
    "            count = count + index + 1\n",
    "    return count - 1"
   ]
  },
  {
   "cell_type": "code",
   "execution_count": 20,
   "metadata": {},
   "outputs": [
    {
     "data": {
      "text/plain": [
       "15"
      ]
     },
     "execution_count": 20,
     "metadata": {},
     "output_type": "execute_result"
    }
   ],
   "source": [
    "findSubStr('3387246_2829545_0_1_3', '_', 2)"
   ]
  },
  {
   "cell_type": "code",
   "execution_count": null,
   "metadata": {
    "collapsed": true
   },
   "outputs": [],
   "source": []
  }
 ],
 "metadata": {
  "kernelspec": {
   "display_name": "Python 2",
   "language": "python",
   "name": "python2"
  },
  "language_info": {
   "codemirror_mode": {
    "name": "ipython",
    "version": 2
   },
   "file_extension": ".py",
   "mimetype": "text/x-python",
   "name": "python",
   "nbconvert_exporter": "python",
   "pygments_lexer": "ipython2",
   "version": "2.7.12"
  }
 },
 "nbformat": 4,
 "nbformat_minor": 1
}
