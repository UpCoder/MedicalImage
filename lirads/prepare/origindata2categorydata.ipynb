{
 "cells": [
  {
   "cell_type": "markdown",
   "metadata": {
    "collapsed": true
   },
   "source": [
    "将original_data文件夹下面的数据按照陈青青标注的分级结果分为５个文件夹\n",
    "    - 1: １级\n",
    "    - 2: ２级\n",
    "    - 3: ３级\n",
    "    - 4: ４级\n",
    "    - 5: ５级\n",
    "    - 0: 其他情况"
   ]
  },
  {
   "cell_type": "code",
   "execution_count": null,
   "metadata": {},
   "outputs": [],
   "source": [
    "def origindata2categorydata(original_dir, save_dir):\n",
    "     ''' \n",
    "     :param original_dir: original_dir的文件夹路径 \n",
    "     :param save_dir　分解结果文件夹的父文件夹路径 \n",
    "     ''' \n",
    "     record_excel_path = os.path.join(original_dir, 'record.xlsx')\n",
    "     record_excel = xlrd.open_workbook(record_excel_path)\n",
    "     sheet = record_excel.sheets()[0]\n",
    "     n_rows = sheet.nrows \n",
    "     pcid_level = {} \n",
    "     for i in range(n_rows): \n",
    "         row = sheet.row_values(i) \n",
    "         pcid = row[0] \n",
    "         level = row[2] \n",
    "         if level not in range(1, 6): \n",
    "             level = 0 \n",
    "         pcid_level[pcid] = level \n",
    "     for key in pcid_level.keys(): \n",
    "         level = pcid_level[key] \n",
    "         print key, ' -> ',level \n",
    "         source_dir = os.path.join(original_dir, key) \n",
    "         if not os.path.exists(source_dir): \n",
    "             continue \n",
    "         target_dir = os.path.join(save_dir, str(int(level))) \n",
    "         if not os.path.exists(target_dir): \n",
    "             os.mkdir(target_dir) \n",
    "             print 'mkdir', target_dir \n",
    "         # print source_dir, target_dir \n",
    "         target_path = os.path.join(target_dir, os.path.basename(source_dir)) \n",
    "         if os.path.exists(target_path): \n",
    "             print 'exists', target_path \n",
    "             continue \n",
    "         shutil.copytree(source_dir, target_path) \n",
    "         print 'finish %s --> %s' % (source_dir, target_path) \n",
    "     # print pcid_level"
   ]
  },
  {
   "cell_type": "code",
   "execution_count": null,
   "metadata": {},
   "outputs": [],
   "source": [
    "origindata2categorydata(\n",
    "    '/home/give/Documents/dataset/LI-RADS/data/whole_data/original_data',\n",
    "    ''\n",
    ")"
   ]
  }
 ],
 "metadata": {
  "kernelspec": {
   "display_name": "Python 2",
   "language": "python",
   "name": "python2"
  },
  "language_info": {
   "codemirror_mode": {
    "name": "ipython",
    "version": 2.0
   },
   "file_extension": ".py",
   "mimetype": "text/x-python",
   "name": "python",
   "nbconvert_exporter": "python",
   "pygments_lexer": "ipython2",
   "version": "2.7.6"
  }
 },
 "nbformat": 4,
 "nbformat_minor": 0
}